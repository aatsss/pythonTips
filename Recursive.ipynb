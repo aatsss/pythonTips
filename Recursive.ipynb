{
 "cells": [
  {
   "cell_type": "markdown",
   "metadata": {},
   "source": [
    "# LeetCode 1770. Maximum Score from Performing Multiplication Operations\n",
    "You are given two integer arrays nums and multipliers of size n and m respectively, where n >= m. The arrays are 1-indexed.\n",
    "\n",
    "You begin with a score of 0. You want to perform exactly m operations. On the ith operation (1-indexed), you will:\n",
    "\n",
    "Choose one integer x from either the start or the end of the array nums.\n",
    "Add multipliers[i] * x to your score.\n",
    "Remove x from the array nums.\n",
    "Return the maximum score after performing m operations.\n",
    "\n",
    "```\n",
    "Input: nums = [1,2,3], multipliers = [3,2,1]\n",
    "Output: 14\n",
    "Explanation: An optimal solution is as follows:\n",
    "- Choose from the end, [1,2,3], adding 3 * 3 = 9 to the score.\n",
    "- Choose from the end, [1,2], adding 2 * 2 = 4 to the score.\n",
    "- Choose from the end, [1], adding 1 * 1 = 1 to the score.\n",
    "The total score is 9 + 4 + 1 = 14.\n",
    "```"
   ]
  },
  {
   "cell_type": "markdown",
   "metadata": {},
   "source": [
    "# 解放\n",
    "再帰か動的計画法，再帰の場合TLEとなったが，**lru_cache** を使うと通った．"
   ]
  },
  {
   "cell_type": "code",
   "execution_count": null,
   "metadata": {},
   "outputs": [],
   "source": [
    "# 再帰\n",
    "class Solution:\n",
    "    def maximumScore(self, nums: List[int], multipliers: List[int]) -> int:\n",
    "        @lru_cache(None)        # これ重要\n",
    "        def rec(left,index):\n",
    "            right = len(nums) - index + left\n",
    "            if index > len(multipliers):\n",
    "                return 0\n",
    "            else :\n",
    "                return max(nums[left]*multipliers[index-1] + rec(left+1,index+1), nums[right]*multipliers[index-1] + rec(left,index+1))\n",
    "\n",
    "        ans = rec(0, 1)\n",
    "        \n",
    "        rec.cache_clear()       # これも重要\n",
    "        return ans \n",
    "\n",
    "# 動的計画法\n",
    "    def maximumScore(self, nums: List[int], mult: List[int]) -> int:\n",
    "            n, m = len(nums), len(mult)\n",
    "            dp = [[0 for _ in range(m + 1)] for _ in range(m + 1)]\n",
    "\n",
    "            for i in range(m - 1, -1, -1):\n",
    "                for left in range(i, -1, -1):\n",
    "                    right = n - 1 - i + left\n",
    "                    dp[i][left] = max(mult[i] * nums[left] + dp[i + 1][left + 1], \n",
    "                                    mult[i] * nums[right] + dp[i + 1][left])\n",
    "\n",
    "            return dp[0][0]"
   ]
  }
 ],
 "metadata": {
  "kernelspec": {
   "display_name": "Python 3.8.9 ('.venv': venv)",
   "language": "python",
   "name": "python3"
  },
  "language_info": {
   "name": "python",
   "version": "3.8.9"
  },
  "orig_nbformat": 4,
  "vscode": {
   "interpreter": {
    "hash": "3c821c7de2ff04ce5b19d87b476e1315842a944e93a798e023cbbb6b9112290b"
   }
  }
 },
 "nbformat": 4,
 "nbformat_minor": 2
}
