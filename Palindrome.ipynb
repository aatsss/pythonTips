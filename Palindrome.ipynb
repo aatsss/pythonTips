{
 "cells": [
  {
   "cell_type": "markdown",
   "metadata": {},
   "source": [
    "# 5. Longest Palindromic Substring\n",
    "Given a string s, return the longest palindromic substring in s.\n",
    "```\n",
    "Input: s = \"babad\"\n",
    "Output: \"bab\"\n",
    "Explanation: \"aba\" is also a valid answer.\n",
    "```"
   ]
  },
  {
   "cell_type": "code",
   "execution_count": null,
   "metadata": {},
   "outputs": [],
   "source": [
    "class Solution:\n",
    "    def longestPalindrome(self, s: str) -> str:\n",
    "        result = ''\n",
    "        for i in range(len(s)):\n",
    "            # odd case\n",
    "            tmp = self.helper(s, i, i)\n",
    "            if len(tmp) > len(result):\n",
    "                result = tmp\n",
    "\n",
    "            # even case\n",
    "            tmp = self.helper(s, i, i+1)\n",
    "            if len(tmp) > len(result):\n",
    "                result = tmp\n",
    "                \n",
    "        return result\n",
    "\n",
    "\n",
    "    def helper(self, s, l, r):\n",
    "        while l >= 0 and r < len(s) and s[l] == s[r]:\n",
    "            l -= 1\n",
    "            r += 1\n",
    "        return s[l+1:r]"
   ]
  }
 ],
 "metadata": {
  "kernelspec": {
   "display_name": "Python 3.8.9 ('.venv': venv)",
   "language": "python",
   "name": "python3"
  },
  "language_info": {
   "name": "python",
   "version": "3.8.9"
  },
  "orig_nbformat": 4,
  "vscode": {
   "interpreter": {
    "hash": "c49cb412dc48c8137b73d6f924980936384c0f6228b14e4414f9cfaf9b9708b7"
   }
  }
 },
 "nbformat": 4,
 "nbformat_minor": 2
}
