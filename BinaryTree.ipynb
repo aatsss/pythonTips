{
 "cells": [
  {
   "cell_type": "markdown",
   "metadata": {},
   "source": [
    "# LeetCode 102. Binary Tree Level Order Traversal\n",
    "\n",
    "Given the root of a binary tree, return the level order traversal of its nodes' values. (i.e., from left to right, level by level).\n",
    "```e.g., \n",
    "Input: root = [3,9,20,null,null,15,7]\n",
    "Output: [[3],[9,20],[15,7]]\n",
    "```\n"
   ]
  },
  {
   "cell_type": "code",
   "execution_count": null,
   "metadata": {},
   "outputs": [],
   "source": [
    "from collections import deque\n",
    "from typing import List, Optional\n",
    "\n",
    "class TreeNode:             # definition of Tree\n",
    "    def __init__(self, val = 0, left = None, right = None):\n",
    "        self.val = val\n",
    "        self.left = left\n",
    "        self.right = right\n",
    "\n",
    "\n",
    "class Solution:             # beneath first search \n",
    "    def bfs(self, root: Optional[TreeNode]) -> List[List[int]]:\n",
    "        if not root:\n",
    "            return root\n",
    "        \n",
    "        levels = []\n",
    "        queue = deque()\n",
    "\n",
    "        queue.append(root)\n",
    "\n",
    "        while queue:\n",
    "            length = len(queue)\n",
    "\n",
    "            buffer = []\n",
    "\n",
    "            for _ in range(length):\n",
    "                node = queue.popleft\n",
    "\n",
    "                buffer.append(node.val)\n",
    "\n",
    "                if node.left:\n",
    "                    queue.append(node.left)\n",
    "                \n",
    "                if node.right:\n",
    "                    queue.append(node.right)\n",
    "                \n",
    "            levels.append(buffer)\n",
    "        \n",
    "        return levels\n",
    "\n"
   ]
  },
  {
   "cell_type": "markdown",
   "metadata": {},
   "source": [
    "# LeetCode 105. Construct Binary Tree from Preorder and Inorder Traversal\n",
    "Given two integer arrays preorder and inorder where preorder is the preorder traversal of a binary tree and inorder is the inorder traversal of the same tree, construct and return the binary tree. \n",
    "\n",
    "前順操作の結果の配列と間順操作の結果の配列から, 2分探索木をBFS順で表示\n",
    "  \n",
    "```\n",
    "Input: preorder = [3,9,20,15,7], inorder = [9,3,15,20,7]\n",
    "Output: [3,9,20,null,null,15,7]\n",
    "```"
   ]
  },
  {
   "cell_type": "code",
   "execution_count": null,
   "metadata": {},
   "outputs": [],
   "source": [
    "# Definition for a binary tree node.\n",
    "# class TreeNode:\n",
    "#     def __init__(self, val=0, left=None, right=None):\n",
    "#         self.val = val\n",
    "#         self.left = left\n",
    "#         self.right = right\n",
    "\n",
    "class Solution:\n",
    "    def buildTree(self, preorder: List[int], inorder: List[int]) -> Optional[TreeNode]:\n",
    "        # recursive solution \n",
    "        if inorder:\n",
    "            # find index of root node within in-order traversal \n",
    "            ind = inorder.index(preorder.pop(0))\n",
    "            root = TreeNode(inorder[ind])\n",
    "            \n",
    "            # recursively generate legt subtree starting from 0th index to root index within in-order traversal\n",
    "            root.left = self.buildTree(preorder, inorder[:ind])\n",
    "            # recursively generate right subtree starting from next of root index till last index\n",
    "            root.right = self.buildTree(preorder, inorder[ind+1:])\n",
    "\n",
    "            return root\n"
   ]
  }
 ],
 "metadata": {
  "kernelspec": {
   "display_name": "Python 3.9.5 64-bit ('3.9.5')",
   "language": "python",
   "name": "python3"
  },
  "language_info": {
   "name": "python",
   "version": "3.9.5"
  },
  "orig_nbformat": 4,
  "vscode": {
   "interpreter": {
    "hash": "f87afe7cd0fc9b7ef61ad494a3efc2dcc3a6130a39a6e9bc1cc4d44947ce0e6c"
   }
  }
 },
 "nbformat": 4,
 "nbformat_minor": 2
}
