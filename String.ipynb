{
 "cells": [
  {
   "cell_type": "markdown",
   "metadata": {},
   "source": [
    "# LeetCode5. Longest Palindromic Substring\n",
    "Given a string s, return the longest palindromic substring in s.\n",
    "```\n",
    "Input: s = \"babad\"\n",
    "Output: \"bab\"\n",
    "Explanation: \"aba\" is also a valid answer.\n",
    "```"
   ]
  },
  {
   "cell_type": "code",
   "execution_count": null,
   "metadata": {},
   "outputs": [],
   "source": [
    "class Solution:\n",
    "    def longestPalindrome(self, s: str) -> str:\n",
    "        result = ''\n",
    "        for i in range(len(s)):\n",
    "            # odd case\n",
    "            tmp = self.helper(s, i, i)\n",
    "            if len(tmp) > len(result):\n",
    "                result = tmp\n",
    "\n",
    "            # even case\n",
    "            tmp = self.helper(s, i, i+1)\n",
    "            if len(tmp) > len(result):\n",
    "                result = tmp\n",
    "                \n",
    "        return result\n",
    "\n",
    "\n",
    "    def helper(self, s, l, r):\n",
    "        while l >= 0 and r < len(s) and s[l] == s[r]:\n",
    "            l -= 1\n",
    "            r += 1\n",
    "        return s[l+1:r]"
   ]
  },
  {
   "cell_type": "markdown",
   "metadata": {},
   "source": [
    "# LeetCode3. Longest Substring Without Repeating Characters\n",
    "- Given a string s, find the length of the longest substring without repeating characters.\n",
    "```\n",
    "Input: s = \"pwwkew\"\n",
    "Output: 3\n",
    "Explanation: The answer is \"wke\", with the length of 3.\n",
    "Notice that the answer must be a substring, \"pwke\" is a subsequence and not a substring.\n",
    "```"
   ]
  },
  {
   "cell_type": "markdown",
   "metadata": {},
   "source": [
    "## 解法\n",
    "- この問題は **連続するものの最大シーケンスを見つける**　タイプの問題\n",
    "  - スライディングウィンドウアルゴリズムが使える．\n",
    "- スライディングウィンドウアルゴリズム\n",
    "  1. 文字の重複が見つかるまでウィンドウサイズ（window_end）を増やし，max_lengthも計算する\n",
    "  2. 重複した文字が見つかればウィンドウのスタート位置（window_start）を重複文字が初めて登場した位置の一つ後に設定"
   ]
  },
  {
   "cell_type": "code",
   "execution_count": null,
   "metadata": {},
   "outputs": [],
   "source": [
    "class Solution: \n",
    "    def lengthOfLongestSubstring(self, s: str) -> int:\n",
    "        max_length = 0\n",
    "        window_start = 0\n",
    "        mapping = {}\n",
    "\n",
    "        for window_end in range(len(s)):\n",
    "            if s[window_end] in mapping:\n",
    "                window_start = max(window_start, mapping[s[window_end]] + 1)\n",
    "            \n",
    "            mapping[s[window_end]] = window_end\n",
    "\n",
    "            max_length = max(max_length, window_end - window_start + 1)\n",
    "        \n",
    "        return max_length"
   ]
  }
 ],
 "metadata": {
  "kernelspec": {
   "display_name": "Python 3.9.5 64-bit ('3.9.5')",
   "language": "python",
   "name": "python3"
  },
  "language_info": {
   "name": "python",
   "version": "3.9.5"
  },
  "orig_nbformat": 4,
  "vscode": {
   "interpreter": {
    "hash": "f87afe7cd0fc9b7ef61ad494a3efc2dcc3a6130a39a6e9bc1cc4d44947ce0e6c"
   }
  }
 },
 "nbformat": 4,
 "nbformat_minor": 2
}
